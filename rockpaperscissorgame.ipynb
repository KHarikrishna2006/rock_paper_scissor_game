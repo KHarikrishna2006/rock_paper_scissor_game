{
 "cells": [
  {
   "cell_type": "code",
   "execution_count": null,
   "id": "1549afe9-6545-4135-b0e4-747136db27ff",
   "metadata": {},
   "outputs": [
    {
     "name": "stdout",
     "output_type": "stream",
     "text": [
      "\t\t\t\t\t\tRock Paper Scissor\n",
      "\n",
      "Rules of Game : \n",
      "\n",
      "1.Rock VS Paper ====> Paper wins\n",
      "2.Rock VS Scissor ====> Rock wins\n",
      "3.Scissor VS Paper ====> Scissor wins\n",
      "\n",
      "\n",
      "==>A win in each round gains a point.\n",
      "==>Gaining 3 points declares the WINNER.\n",
      "\n",
      "\n"
     ]
    }
   ],
   "source": [
    "import random as r\n",
    "print(\"\\t\\t\\t\\t\\t\\tRock Paper Scissor\\n\")\n",
    "print(\"Rules of Game : \\n\")\n",
    "print(\"1.Rock VS Paper ====> Paper wins\\n2.Rock VS Scissor ====> Rock wins\\n3.Scissor VS Paper ====> Scissor wins\\n\\n\")\n",
    "print(\"==>A win in each round gains a point.\\n==>Gaining 3 points declares the WINNER.\\n\\n\")\n",
    "name=input(\"Enter your name:\\n\")\n",
    "possibilities=[\"rock\",\"paper\",\"scissor\"]\n",
    "print(\"let's Begin the Game\\n\")\n",
    "ch='Y'\n",
    "cl=0\n",
    "hl=0\n",
    "while(ch=='Y'):\n",
    "    print(\"1.Rock\\n2.Paper\\n3.Scissor\\n\")\n",
    "    choice=int(input(\"Enter your Choice:\"))\n",
    "    a=possibilities[choice-1]\n",
    "    b=r.choice(possibilities)\n",
    "    print(\"Your Choice is:\"+a)\n",
    "    print(\"Computr's choice:\"+b)\n",
    "    print(a,\" VS \",b)\n",
    "    if(a==\"rock\" and b==\"scissor\"):\n",
    "        print(name,\" win's\\n\")\n",
    "        hl+=1\n",
    "        print(\"Points ==> computer= \",cl,\"\\t\\t\",name,\"= \",hl)\n",
    "    if(a==\"rock\" and b==\"paper\"):\n",
    "        print(\"Computer win's\\n\")\n",
    "        cl+=1\n",
    "        print(\"Points ==> computer= \",cl,\"\\t\\t\",name,\"= \",hl)\n",
    "    if(a==\"paper\" and b==\"scissor\"):\n",
    "        print(\"Computer win's\\n\")\n",
    "        cl+=1\n",
    "        print(\"Points ==> computer= \",cl,\"\\t\\t\",name,\"= \",hl)\n",
    "    if(a==\"paper\" and b==\"rock\"):\n",
    "        print(name,\" win's\\n\")\n",
    "        hl+=1\n",
    "        print(\"Points ==> computer= \",cl,\"\\t\\t\",name,\"= \",hl)\n",
    "    if(a==\"scissor\" and b==\"rock\"):\n",
    "        print(\"computer win's\\n\")\n",
    "        cl+=1\n",
    "        print(\"Points ==> computer= \",cl,\"\\t\\t\",name,\"= \",hl)\n",
    "    if(a==\"scissor\" and b==\"paper\"):\n",
    "        print(name,\" win's\\n\")\n",
    "        hl+=1\n",
    "        print(\"Points ==> computer= \",cl,\"\\t\\t\",name,\"= \",hl)\n",
    "    if(a==\"scissor\" and b==\"scissor\"):\n",
    "        print(\"It'a a tie.\")\n",
    "        print(\"Points ==> computer= \",cl,\"\\t\\t\",name,\"= \",hl)\n",
    "    if(a==\"rock\" and b==\"rock\"):\n",
    "        print(\"It'a a tie.\")\n",
    "        print(\"Points ==> computer= \",cl,\"\\t\\t\",name,\"= \",hl)\n",
    "    if(a==\"paper\" and b==\"paper\"):\n",
    "        print(\"It'a a tie.\")\n",
    "        print(\"Points ==> computer= \",cl,\"\\t\\t\",name,\"= \",hl)\n",
    "    if(cl==3 or hl==3):\n",
    "        if(hl==3):\n",
    "            print(\"------\",name,\" Win's------\")\n",
    "        else:\n",
    "            print(\"------Computer Win's------\")\n",
    "        ch=input(\"Do you want to play again!!\\nYES=Y\\nNO=N\")"
   ]
  },
  {
   "cell_type": "code",
   "execution_count": null,
   "id": "e3aa68f8-2eb2-4811-9a09-747ac8b26466",
   "metadata": {},
   "outputs": [],
   "source": []
  }
 ],
 "metadata": {
  "kernelspec": {
   "display_name": "Python 3 (ipykernel)",
   "language": "python",
   "name": "python3"
  },
  "language_info": {
   "codemirror_mode": {
    "name": "ipython",
    "version": 3
   },
   "file_extension": ".py",
   "mimetype": "text/x-python",
   "name": "python",
   "nbconvert_exporter": "python",
   "pygments_lexer": "ipython3",
   "version": "3.12.4"
  }
 },
 "nbformat": 4,
 "nbformat_minor": 5
}
